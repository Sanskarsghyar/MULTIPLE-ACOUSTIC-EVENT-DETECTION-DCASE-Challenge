{
  "cells": [
    {
      "cell_type": "code",
      "execution_count": 1,
      "metadata": {
        "id": "YGw0z4LL7bUE"
      },
      "outputs": [],
      "source": [
        "import numpy as np\n",
        "import pandas as pd\n",
        "import os"
      ]
    },
    {
      "cell_type": "code",
      "execution_count": 2,
      "metadata": {
        "colab": {
          "base_uri": "https://localhost:8080/",
          "height": 36
        },
        "id": "5XbAkwTVojVb",
        "outputId": "c18d2668-592a-45b9-be07-9ab0cd402d15"
      },
      "outputs": [
        {
          "data": {
            "application/vnd.google.colaboratory.intrinsic+json": {
              "type": "string"
            },
            "text/plain": [
              "'/content'"
            ]
          },
          "execution_count": 2,
          "metadata": {},
          "output_type": "execute_result"
        }
      ],
      "source": [
        "os.getcwd()"
      ]
    },
    {
      "cell_type": "code",
      "execution_count": 3,
      "metadata": {
        "colab": {
          "base_uri": "https://localhost:8080/",
          "height": 36
        },
        "id": "FHHepLeZouKi",
        "outputId": "8dde7c7b-2a6c-4465-d021-5e5a652c6845"
      },
      "outputs": [
        {
          "data": {
            "application/vnd.google.colaboratory.intrinsic+json": {
              "type": "string"
            },
            "text/plain": [
              "'/content/drive/MyDrive/COLAB Files/dataset_a2'"
            ]
          },
          "execution_count": 3,
          "metadata": {},
          "output_type": "execute_result"
        }
      ],
      "source": [
        "path = '/content/drive/MyDrive/COLAB Files/dataset_a2'\n",
        "os.chdir(path)\n",
        "os.getcwd()"
      ]
    },
    {
      "cell_type": "code",
      "execution_count": 4,
      "metadata": {
        "colab": {
          "base_uri": "https://localhost:8080/"
        },
        "id": "429Itv4Py8mH",
        "outputId": "66a3a77c-18ee-4955-f774-3843fbf92e44"
      },
      "outputs": [
        {
          "name": "stdout",
          "output_type": "stream",
          "text": [
            "\u001b[0m\u001b[01;34mX\u001b[0m/  x_test.npy  x_train.npy  \u001b[01;34mY\u001b[0m/  y_test.npy  y_train.npy\n"
          ]
        }
      ],
      "source": [
        "ls"
      ]
    },
    {
      "cell_type": "code",
      "execution_count": 5,
      "metadata": {
        "id": "7gTzLq9kGPbS"
      },
      "outputs": [],
      "source": [
        "xpath = '/content/drive/MyDrive/COLAB Files/dataset_a2/X'\n",
        "ypath = '/content/drive/MyDrive/COLAB Files/dataset_a2/Y'\n",
        "val = '/content/drive/MyDrive/COLAB Files/validation/dataset'\n",
        "xvalpath = '/content/drive/MyDrive/COLAB Files/validation/dataset/X'\n",
        "yvalpath = '/content/drive/MyDrive/COLAB Files/validation/dataset/Y'"
      ]
    },
    {
      "cell_type": "markdown",
      "metadata": {
        "id": "Opnkox9eBl5M"
      },
      "source": [
        "##Read X"
      ]
    },
    {
      "cell_type": "code",
      "execution_count": 6,
      "metadata": {
        "colab": {
          "base_uri": "https://localhost:8080/",
          "height": 36
        },
        "id": "CgV4M7dTAsOq",
        "outputId": "35e24ca0-daba-41f3-a6b1-7a3841025413"
      },
      "outputs": [
        {
          "data": {
            "application/vnd.google.colaboratory.intrinsic+json": {
              "type": "string"
            },
            "text/plain": [
              "'/content/drive/MyDrive/COLAB Files/dataset_a2/X'"
            ]
          },
          "execution_count": 6,
          "metadata": {},
          "output_type": "execute_result"
        }
      ],
      "source": [
        "os.chdir(xpath)\n",
        "os.getcwd()"
      ]
    },
    {
      "cell_type": "code",
      "execution_count": 7,
      "metadata": {
        "colab": {
          "base_uri": "https://localhost:8080/"
        },
        "id": "3j2eWlSxCnsa",
        "outputId": "b5765044-1bbc-4257-ccc6-2b7dee0f544c"
      },
      "outputs": [
        {
          "data": {
            "text/plain": [
              "10000"
            ]
          },
          "execution_count": 7,
          "metadata": {},
          "output_type": "execute_result"
        }
      ],
      "source": [
        "xp = os.listdir()\n",
        "len(xp)"
      ]
    },
    {
      "cell_type": "code",
      "execution_count": 8,
      "metadata": {
        "id": "g6SUjlgmCubm"
      },
      "outputs": [],
      "source": [
        "x = np.zeros((10000,64,1000,1))\n",
        "\n",
        "for i in range(len(xp)):\n",
        "  a = np.load(xp[i])\n",
        "  x[i,:,0:1000,0] = a[0,:,0:1000]"
      ]
    },
    {
      "cell_type": "code",
      "execution_count": 9,
      "metadata": {
        "colab": {
          "base_uri": "https://localhost:8080/"
        },
        "id": "2BhNRV0JL1rG",
        "outputId": "966f2f46-2dbf-4eb1-cfec-a8d598d8d14f"
      },
      "outputs": [
        {
          "data": {
            "text/plain": [
              "(10000, 64, 1000, 1)"
            ]
          },
          "execution_count": 9,
          "metadata": {},
          "output_type": "execute_result"
        }
      ],
      "source": [
        "x.shape "
      ]
    },
    {
      "cell_type": "code",
      "execution_count": 10,
      "metadata": {
        "colab": {
          "base_uri": "https://localhost:8080/",
          "height": 36
        },
        "id": "gs4_qU2rJu-q",
        "outputId": "3da774d3-e6d1-48e8-8796-e89c7131e8f1"
      },
      "outputs": [
        {
          "data": {
            "application/vnd.google.colaboratory.intrinsic+json": {
              "type": "string"
            },
            "text/plain": [
              "'melspec_4081.npy'"
            ]
          },
          "execution_count": 10,
          "metadata": {},
          "output_type": "execute_result"
        }
      ],
      "source": [
        "xp[0]"
      ]
    },
    {
      "cell_type": "code",
      "execution_count": 11,
      "metadata": {
        "colab": {
          "base_uri": "https://localhost:8080/"
        },
        "id": "RShIIDop0o1i",
        "outputId": "582f5f2e-d349-4933-f0b3-f7b8382c6fef"
      },
      "outputs": [
        {
          "data": {
            "text/plain": [
              "numpy.ndarray"
            ]
          },
          "execution_count": 11,
          "metadata": {},
          "output_type": "execute_result"
        }
      ],
      "source": [
        "type(x)"
      ]
    },
    {
      "cell_type": "markdown",
      "metadata": {
        "id": "oHmLII0tKMS7"
      },
      "source": [
        "##Read Y"
      ]
    },
    {
      "cell_type": "code",
      "execution_count": 12,
      "metadata": {
        "id": "cMhh9wvq-E7i"
      },
      "outputs": [],
      "source": [
        "def eventroll_to_multihot_vector(eventroll):\n",
        "    \"\"\"\n",
        "    Parameters\n",
        "    ----------\n",
        "    eventroll : np.array\n",
        "        Eventroll matrix of shape=(11, 1000).\n",
        "    \n",
        "    Returns\n",
        "    -------\n",
        "    np.array\n",
        "        A multihot vector of shape=(10,)\n",
        "    \"\"\"\n",
        "    \n",
        "    # findout active events:\n",
        "    active_events = (eventroll.sum(axis=1) >= 0.5).astype('float')\n",
        "    \n",
        "    # remove silence class:\n",
        "    return np.delete(active_events, 8)"
      ]
    },
    {
      "cell_type": "code",
      "execution_count": 13,
      "metadata": {
        "colab": {
          "base_uri": "https://localhost:8080/",
          "height": 36
        },
        "id": "gI60DpsQ8rYZ",
        "outputId": "a16ef1dd-bfbb-4c71-99cc-715243f5d6ff"
      },
      "outputs": [
        {
          "data": {
            "application/vnd.google.colaboratory.intrinsic+json": {
              "type": "string"
            },
            "text/plain": [
              "'/content/drive/MyDrive/COLAB Files/dataset_a2/Y'"
            ]
          },
          "execution_count": 13,
          "metadata": {},
          "output_type": "execute_result"
        }
      ],
      "source": [
        "os.chdir(ypath)\n",
        "os.getcwd()"
      ]
    },
    {
      "cell_type": "code",
      "execution_count": 14,
      "metadata": {
        "colab": {
          "base_uri": "https://localhost:8080/"
        },
        "id": "d9Btt6g9-rb7",
        "outputId": "6b4cc33f-b429-4bd3-cc85-a827fe2c8a15"
      },
      "outputs": [
        {
          "data": {
            "text/plain": [
              "10000"
            ]
          },
          "execution_count": 14,
          "metadata": {},
          "output_type": "execute_result"
        }
      ],
      "source": [
        "yp = os.listdir()\n",
        "len(yp)"
      ]
    },
    {
      "cell_type": "code",
      "execution_count": 15,
      "metadata": {
        "id": "yokNUKGL9WGa"
      },
      "outputs": [],
      "source": [
        "y_et = np.zeros((10000,11,1000))\n",
        "\n",
        "for i in range(len(yp)):\n",
        "  b = np.load(yp[i])\n",
        "  y_et[i,:,:] = b[:,:]"
      ]
    },
    {
      "cell_type": "code",
      "execution_count": 16,
      "metadata": {
        "id": "8Mbf--ZOSe39"
      },
      "outputs": [],
      "source": [
        "y = np.zeros((10000,10))\n",
        "\n",
        "for i in range(len(yp)):\n",
        "  c = eventroll_to_multihot_vector(y_et[i])\n",
        "  y[i,:] = c"
      ]
    },
    {
      "cell_type": "code",
      "execution_count": 17,
      "metadata": {
        "colab": {
          "base_uri": "https://localhost:8080/"
        },
        "id": "oL7bLcgFL7RR",
        "outputId": "06020fa4-dc5c-4ea8-ec52-07db51aaf49b"
      },
      "outputs": [
        {
          "data": {
            "text/plain": [
              "(10000, 10)"
            ]
          },
          "execution_count": 17,
          "metadata": {},
          "output_type": "execute_result"
        }
      ],
      "source": [
        "y.shape"
      ]
    },
    {
      "cell_type": "code",
      "execution_count": 18,
      "metadata": {
        "colab": {
          "base_uri": "https://localhost:8080/"
        },
        "id": "3jQk4HdLPX0O",
        "outputId": "f6c636d9-6849-4801-93b4-d7a3987ff913"
      },
      "outputs": [
        {
          "data": {
            "text/plain": [
              "(10,)"
            ]
          },
          "execution_count": 18,
          "metadata": {},
          "output_type": "execute_result"
        }
      ],
      "source": [
        "y[0].shape"
      ]
    },
    {
      "cell_type": "code",
      "execution_count": 19,
      "metadata": {
        "colab": {
          "base_uri": "https://localhost:8080/"
        },
        "id": "NIFnjJhaBg3R",
        "outputId": "bc62ccb7-6c1a-42b7-dfd4-881fe81f09c6"
      },
      "outputs": [
        {
          "data": {
            "text/plain": [
              "array([0., 0., 0., 0., 0., 1., 0., 0., 1., 0.])"
            ]
          },
          "execution_count": 19,
          "metadata": {},
          "output_type": "execute_result"
        }
      ],
      "source": [
        "y[0]"
      ]
    },
    {
      "cell_type": "code",
      "execution_count": 20,
      "metadata": {
        "colab": {
          "base_uri": "https://localhost:8080/"
        },
        "id": "lzYwYfswdKCG",
        "outputId": "77cbaa3f-069b-41ef-ddc9-d586d81380d2"
      },
      "outputs": [
        {
          "data": {
            "text/plain": [
              "array([0., 0., 0., 1., 0., 0., 1., 0., 1., 0.])"
            ]
          },
          "execution_count": 20,
          "metadata": {},
          "output_type": "execute_result"
        }
      ],
      "source": [
        "y[4]"
      ]
    },
    {
      "cell_type": "markdown",
      "metadata": {
        "id": "P07zGE-uBsdE"
      },
      "source": [
        "##Save "
      ]
    },
    {
      "cell_type": "code",
      "execution_count": 21,
      "metadata": {
        "id": "rZwjfnbmWLwV"
      },
      "outputs": [],
      "source": [
        "from sklearn.model_selection import train_test_split\n",
        "x_tr, x_tes, y_tr, y_tes = train_test_split(x, y, test_size=0.2)"
      ]
    },
    {
      "cell_type": "code",
      "execution_count": 22,
      "metadata": {
        "colab": {
          "base_uri": "https://localhost:8080/",
          "height": 36
        },
        "id": "eFC7g8ut_SeO",
        "outputId": "ebc29142-63c5-4b98-cf76-0f8671909a54"
      },
      "outputs": [
        {
          "data": {
            "application/vnd.google.colaboratory.intrinsic+json": {
              "type": "string"
            },
            "text/plain": [
              "'/content/drive/MyDrive/COLAB Files/dataset_a2'"
            ]
          },
          "execution_count": 22,
          "metadata": {},
          "output_type": "execute_result"
        }
      ],
      "source": [
        "os.chdir(path)\n",
        "os.getcwd()"
      ]
    },
    {
      "cell_type": "code",
      "execution_count": 23,
      "metadata": {
        "id": "9_3JIHzs_SeO"
      },
      "outputs": [],
      "source": [
        "# x_train = np.zeros((8000,64,1000,1))\n",
        "np.save('x_train', x_tr)"
      ]
    },
    {
      "cell_type": "code",
      "execution_count": 24,
      "metadata": {
        "id": "5uuL3g1S_l2k"
      },
      "outputs": [],
      "source": [
        "# x_test = np.zeros((2000,64,1000,1))\n",
        "np.save('x_test', x_tes)"
      ]
    },
    {
      "cell_type": "code",
      "execution_count": 25,
      "metadata": {
        "id": "d-usIuMrBJMV"
      },
      "outputs": [],
      "source": [
        "np.save('y_train', y_tr)"
      ]
    },
    {
      "cell_type": "code",
      "execution_count": 26,
      "metadata": {
        "id": "P9nxwnRtBW00"
      },
      "outputs": [],
      "source": [
        "np.save('y_test', y_tes)"
      ]
    },
    {
      "cell_type": "code",
      "execution_count": 26,
      "metadata": {
        "id": "sJFiB5IVHetl"
      },
      "outputs": [],
      "source": []
    }
  ],
  "metadata": {
    "colab": {
      "provenance": []
    },
    "kernelspec": {
      "display_name": "Python 3",
      "name": "python3"
    },
    "language_info": {
      "name": "python"
    }
  },
  "nbformat": 4,
  "nbformat_minor": 0
}
